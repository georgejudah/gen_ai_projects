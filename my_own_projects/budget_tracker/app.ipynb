{
 "cells": [
  {
   "cell_type": "markdown",
   "id": "7bdc9315",
   "metadata": {},
   "source": [
    "### budget tracker application\n",
    "# Goal - This tool is used to track the current/past month's bank statement and go through each item classifying them into wants, needs and further classifying them into food, groceries, etc. It gets the budget amount from the user and based on that suggests how to stay within the budget for this month and if it's for the past, how they can improve their budget for this month. It would also suggest them investment ideas for the coming month based on the budget that they allocate"
   ]
  },
  {
   "cell_type": "code",
   "execution_count": 12,
   "id": "991adc1a",
   "metadata": {},
   "outputs": [],
   "source": [
    "# imports\n",
    "\n",
    "import os\n",
    "from dotenv import load_dotenv\n",
    "from openai import OpenAI\n",
    "import gradio as gr"
   ]
  },
  {
   "cell_type": "code",
   "execution_count": 8,
   "id": "e1019dbf",
   "metadata": {},
   "outputs": [
    {
     "name": "stdout",
     "output_type": "stream",
     "text": [
      "OpenAI API Key exists and begins sk-proj-\n",
      "Anthropic API Key not set\n",
      "Google API Key not set\n"
     ]
    }
   ],
   "source": [
    "# Load environment variables in a file called .env\n",
    "# Print the key prefixes to help with any debugging\n",
    "\n",
    "load_dotenv(override=True)\n",
    "openai_api_key = os.getenv('OPENAI_API_KEY')\n",
    "anthropic_api_key = os.getenv('ANTHROPIC_API_KEY')\n",
    "google_api_key = os.getenv('GOOGLE_API_KEY')\n",
    "\n",
    "if openai_api_key:\n",
    "    print(f\"OpenAI API Key exists and begins {openai_api_key[:8]}\")\n",
    "else:\n",
    "    print(\"OpenAI API Key not set\")\n",
    "    \n",
    "if anthropic_api_key:\n",
    "    print(f\"Anthropic API Key exists and begins {anthropic_api_key[:7]}\")\n",
    "else:\n",
    "    print(\"Anthropic API Key not set\")\n",
    "\n",
    "if google_api_key:\n",
    "    print(f\"Google API Key exists and begins {google_api_key[:8]}\")\n",
    "else:\n",
    "    print(\"Google API Key not set\")"
   ]
  },
  {
   "cell_type": "code",
   "execution_count": 9,
   "id": "3017436a",
   "metadata": {},
   "outputs": [],
   "source": [
    "# Initialize\n",
    "\n",
    "openai = OpenAI()\n",
    "MODEL = 'gpt-4o-mini'"
   ]
  },
  {
   "cell_type": "code",
   "execution_count": 14,
   "id": "ff3b03cd",
   "metadata": {},
   "outputs": [],
   "source": [
    "system_message = \"You are a helpful finance and budgeting assistant. Your task is to analyze bank statements and provide personalized budgeting advice.\"\n",
    "user_message = \"Please upload your bank statement PDF for analysis.\"\n",
    "# Define the function to handle file upload and analysis\n",
    "def analyze_bank_statement(file):\n",
    "    if file is None:\n",
    "        return \"No file uploaded. Please upload a bank statement PDF.\"\n",
    "    \n",
    "    # Read the PDF file\n",
    "    with open(file.name, 'rb') as f:\n",
    "        pdf_content = f.read()\n",
    "    \n",
    "    # Process the PDF content and extract relevant information\n",
    "    # (This part would involve using a library to read the PDF and extract text)\n",
    "    \n",
    "    # For demonstration, let's assume we have extracted some text\n",
    "    extracted_text = \"Sample bank statement text\"\n",
    "    \n",
    "    # Use OpenAI API to analyze the extracted text\n",
    "    response = openai.chat.completions.create(\n",
    "        model=MODEL,\n",
    "        messages=[\n",
    "            {\"role\": \"system\", \"content\": system_message},\n",
    "            {\"role\": \"user\", \"content\": user_message},\n",
    "            {\"role\": \"assistant\", \"content\": extracted_text}\n",
    "        ]\n",
    "    )\n",
    "    \n",
    "    return response['choices'][0]['message']['content']"
   ]
  },
  {
   "cell_type": "code",
   "execution_count": 15,
   "id": "699f5f70",
   "metadata": {},
   "outputs": [
    {
     "name": "stdout",
     "output_type": "stream",
     "text": [
      "* Running on local URL:  http://127.0.0.1:7861\n",
      "\n",
      "To create a public link, set `share=True` in `launch()`.\n"
     ]
    },
    {
     "data": {
      "text/html": [
       "<div><iframe src=\"http://127.0.0.1:7861/\" width=\"100%\" height=\"500\" allow=\"autoplay; camera; microphone; clipboard-read; clipboard-write;\" frameborder=\"0\" allowfullscreen></iframe></div>"
      ],
      "text/plain": [
       "<IPython.core.display.HTML object>"
      ]
     },
     "metadata": {},
     "output_type": "display_data"
    },
    {
     "data": {
      "text/plain": []
     },
     "execution_count": 15,
     "metadata": {},
     "output_type": "execute_result"
    }
   ],
   "source": [
    "# Gradio interface for uploading a PDF and getting analysis\n",
    "iface = gr.Interface(\n",
    "    fn=analyze_bank_statement,\n",
    "    inputs=gr.File(label=\"Upload your bank statement PDF\"),\n",
    "    outputs=gr.Textbox(label=\"Personalized Budget Analysis & Suggestions\"),\n",
    "    title=\"Budget Tracker Application\",\n",
    "    description=\"Upload your bank statement PDF and get personalized budget analysis and suggestions.\"\n",
    ")\n",
    "iface.launch()"
   ]
  },
  {
   "cell_type": "code",
   "execution_count": null,
   "id": "cc3ac3ed",
   "metadata": {},
   "outputs": [],
   "source": []
  }
 ],
 "metadata": {
  "kernelspec": {
   "display_name": "llms",
   "language": "python",
   "name": "python3"
  },
  "language_info": {
   "codemirror_mode": {
    "name": "ipython",
    "version": 3
   },
   "file_extension": ".py",
   "mimetype": "text/x-python",
   "name": "python",
   "nbconvert_exporter": "python",
   "pygments_lexer": "ipython3",
   "version": "3.11.11"
  }
 },
 "nbformat": 4,
 "nbformat_minor": 5
}
